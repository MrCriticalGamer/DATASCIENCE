{
 "cells": [
  {
   "cell_type": "markdown",
   "id": "fb4e49bf-51ab-4857-a532-ca6d2bdec04e",
   "metadata": {},
   "source": [
    "# Data Science Tools and Ecosystems"
   ]
  },
  {
   "cell_type": "markdown",
   "id": "a53a32bd-3654-45a1-9e74-3a2f9a012ba8",
   "metadata": {},
   "source": [
    "In this notebook, Data Science Tools and Ecosystem are summarized."
   ]
  },
  {
   "cell_type": "markdown",
   "id": "902ff695-d3c5-4106-85cc-4b8924cefd5c",
   "metadata": {},
   "source": [
    "**Objectives:**\n",
    "* List Data Science Languages\n",
    "* List Data Science Libraries\n",
    "* List Data Science Tools\n",
    "* Do Basic Arithmetic Problems"
   ]
  },
  {
   "cell_type": "markdown",
   "id": "425055e4-0ff2-4397-8e91-6f47f478a861",
   "metadata": {},
   "source": [
    "Some of the popular languages Data Scientists use are:\n",
    "1. Python\n",
    "2. R\n",
    "3. Julia"
   ]
  },
  {
   "cell_type": "markdown",
   "id": "55221f52-59df-436d-9306-a16fb78fdc33",
   "metadata": {},
   "source": [
    "Some of the commonly used libraries by Data Scientists are:\n",
    "1. numpy\n",
    "2. Pandas\n",
    "3. seaborn"
   ]
  },
  {
   "cell_type": "markdown",
   "id": "90760450-b235-409a-838f-2a098c594073",
   "metadata": {},
   "source": [
    "|Data Science Tools|\n",
    "|------------------|\n",
    "|Jupyter Notebook|\n",
    "|TensorFlow|\n",
    "|SAS|"
   ]
  },
  {
   "cell_type": "markdown",
   "id": "e331aee2-4c84-41fd-a472-7f0b9b693343",
   "metadata": {},
   "source": [
    "### Below are a few examples of evaluating arithmetic expressions in python."
   ]
  },
  {
   "cell_type": "code",
   "execution_count": 1,
   "id": "e0761845-a2d4-4f3e-a9c2-1802ff661905",
   "metadata": {
    "tags": []
   },
   "outputs": [
    {
     "data": {
      "text/plain": [
       "17"
      ]
     },
     "execution_count": 1,
     "metadata": {},
     "output_type": "execute_result"
    }
   ],
   "source": [
    "#This a simple arithmetic expression to mutiply then add integers\n",
    "(3*4)+5"
   ]
  },
  {
   "cell_type": "code",
   "execution_count": 2,
   "id": "fa92f07b-6500-4688-b58d-9fe9864589f4",
   "metadata": {
    "tags": []
   },
   "outputs": [
    {
     "data": {
      "text/plain": [
       "3.3333333333333335"
      ]
     },
     "execution_count": 2,
     "metadata": {},
     "output_type": "execute_result"
    }
   ],
   "source": [
    "#This will convert 200 minutes to hours by diving by 60\n",
    "200/60"
   ]
  },
  {
   "cell_type": "markdown",
   "id": "751c152a-6118-4dce-8d09-e9c20072dfde",
   "metadata": {},
   "source": [
    "## Author\n",
    "ABHIRAM L"
   ]
  },
  {
   "cell_type": "code",
   "execution_count": null,
   "id": "0bd7cfcc-8840-4df7-b2f7-e4f1c4aba65c",
   "metadata": {},
   "outputs": [],
   "source": []
  }
 ],
 "metadata": {
  "kernelspec": {
   "display_name": "Python",
   "language": "python",
   "name": "conda-env-python-py"
  },
  "language_info": {
   "codemirror_mode": {
    "name": "ipython",
    "version": 3
   },
   "file_extension": ".py",
   "mimetype": "text/x-python",
   "name": "python",
   "nbconvert_exporter": "python",
   "pygments_lexer": "ipython3",
   "version": "3.7.12"
  }
 },
 "nbformat": 4,
 "nbformat_minor": 5
}
